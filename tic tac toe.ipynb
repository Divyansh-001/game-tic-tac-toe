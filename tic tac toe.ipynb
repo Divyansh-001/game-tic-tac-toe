{
 "cells": [
  {
   "cell_type": "code",
   "execution_count": 1,
   "metadata": {},
   "outputs": [],
   "source": [
    "def display_board(board):\n",
    "    print(board[7]+'_|_'+board[8]+'_|_'+board[9])\n",
    "    print(board[4]+'_|_'+board[5]+'_|_'+board[6])\n",
    "    print(board[1]+' | '+board[2]+' | '+board[3])\n",
    "        \n"
   ]
  },
  {
   "cell_type": "code",
   "execution_count": 2,
   "metadata": {},
   "outputs": [
    {
     "name": "stdout",
     "output_type": "stream",
     "text": [
      " _|_ _|_ \n",
      " _|_ _|_ \n",
      "  |   |  \n"
     ]
    }
   ],
   "source": [
    "display_board([\" \"]*10)"
   ]
  },
  {
   "cell_type": "code",
   "execution_count": 6,
   "metadata": {
    "scrolled": true
   },
   "outputs": [
    {
     "name": "stdout",
     "output_type": "stream",
     "text": [
      "P1: What do you want: \"X\" or \"O\" X\n",
      "P1 : want to go first? Yes/No No\n",
      "X is P1 marker and O is P2 marker\n",
      "\n",
      "P2 turn\n",
      "1\n",
      "7_|_8_|_9\n",
      "4_|_5_|_6\n",
      "O | 2 | 3\n",
      "\n",
      "P1 turn\n",
      "5\n",
      "7_|_8_|_9\n",
      "4_|_X_|_6\n",
      "O | 2 | 3\n",
      "\n",
      "P2 turn\n",
      "4\n",
      "7_|_8_|_9\n",
      "O_|_X_|_6\n",
      "O | 2 | 3\n",
      "\n",
      "P1 turn\n",
      "5\n",
      "7_|_8_|_9\n",
      "O_|_X_|_6\n",
      "O | 2 | 3\n",
      "\n",
      "P2 turn\n",
      "7\n",
      "O_|_8_|_9\n",
      "O_|_X_|_6\n",
      "O | 2 | 3\n",
      "\n",
      "P2 won\n"
     ]
    }
   ],
   "source": [
    "from IPython.display import clear_output\n",
    "\n",
    "player1,player2=choose()\n",
    "p1,p2=first_move()\n",
    "print(f'{player1} is P1 marker and {player2} is P2 marker')\n",
    "board = ['!','1','2','3','4','5','6','7','8','9']\n",
    "for i in range(1,10):\n",
    "    if i%2==0:\n",
    "        if p1==1:\n",
    "            print('\\nP2 turn')\n",
    "            x=int(input())\n",
    "            board[x]=player2\n",
    "            display_board(board)\n",
    "            if check_win() == True:\n",
    "                y=1\n",
    "                break\n",
    "        elif p2==1:\n",
    "            print('\\nP1 turn')\n",
    "            x=int(input())\n",
    "            board[x]=player1\n",
    "            display_board(board)\n",
    "            if check_win()==True:\n",
    "                y=0\n",
    "                break\n",
    "        \n",
    "    else:\n",
    "        if p1==1:\n",
    "            print('\\nP1 turn')\n",
    "            y=int(input())\n",
    "            board[y]=player1\n",
    "            display_board(board)\n",
    "            if check_win()==True:\n",
    "                y=0\n",
    "                break\n",
    "        elif p2==1:\n",
    "            print('\\nP2 turn')\n",
    "            y=int(input())\n",
    "            board[y]=player2\n",
    "            display_board(board)\n",
    "            if check_win() == True:\n",
    "                y=1\n",
    "                break\n",
    "        \n",
    "        \n",
    "if y==1:\n",
    "    print('\\nP2 won')\n",
    "elif y==0:\n",
    "    print('\\nP1 won')\n",
    "else:\n",
    "    print('\\nDraw')\n",
    "    "
   ]
  },
  {
   "cell_type": "code",
   "execution_count": 5,
   "metadata": {},
   "outputs": [],
   "source": [
    "def check_win():\n",
    "    if board[1]==board[2]==board[3]:\n",
    "        return True\n",
    "    elif board[4]==board[5]==board[6]:\n",
    "        return True\n",
    "    elif board[7]==board[8]==board[9]:\n",
    "        return True\n",
    "    elif board[1]==board[4]==board[7]:\n",
    "        return True\n",
    "    elif board[2]==board[5]==board[8]:\n",
    "        return True\n",
    "    elif board[3]==board[6]==board[9]:\n",
    "        return True\n",
    "    elif board[1]==board[5]==board[9]:\n",
    "        return True\n",
    "    elif board[7]==board[5]==board[3]:\n",
    "        return True\n",
    "    else:\n",
    "        return False"
   ]
  },
  {
   "cell_type": "code",
   "execution_count": 4,
   "metadata": {},
   "outputs": [],
   "source": [
    "def choose():\n",
    "    player1=input('P1: What do you want: \"X\" or \"O\" ')\n",
    "    if player1=='X':\n",
    "        player2='O'\n",
    "    elif player1=='O':\n",
    "        player2='X'\n",
    "    else:\n",
    "        print('error')\n",
    "    return player1,player2"
   ]
  },
  {
   "cell_type": "code",
   "execution_count": 3,
   "metadata": {},
   "outputs": [],
   "source": [
    "def first_move():\n",
    "    x_x=input('P1 : want to go first? Yes/No ')\n",
    "    if x_x=='Yes':\n",
    "        p1=1\n",
    "        p2=2\n",
    "    elif x_x=='No':\n",
    "        p1=2\n",
    "        p2=1\n",
    "    return p1,p2\n",
    "    "
   ]
  },
  {
   "cell_type": "code",
   "execution_count": null,
   "metadata": {},
   "outputs": [],
   "source": [
    "first_move()\n"
   ]
  },
  {
   "cell_type": "code",
   "execution_count": null,
   "metadata": {},
   "outputs": [],
   "source": []
  }
 ],
 "metadata": {
  "kernelspec": {
   "display_name": "Python 3",
   "language": "python",
   "name": "python3"
  },
  "language_info": {
   "codemirror_mode": {
    "name": "ipython",
    "version": 3
   },
   "file_extension": ".py",
   "mimetype": "text/x-python",
   "name": "python",
   "nbconvert_exporter": "python",
   "pygments_lexer": "ipython3",
   "version": "3.7.3"
  }
 },
 "nbformat": 4,
 "nbformat_minor": 2
}
